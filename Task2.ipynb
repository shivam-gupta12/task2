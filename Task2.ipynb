{
 "cells": [
  {
   "cell_type": "code",
   "execution_count": 52,
   "id": "903f144a-3bb8-4708-930f-9fa13bc873a7",
   "metadata": {},
   "outputs": [
    {
     "name": "stdin",
     "output_type": "stream",
     "text": [
      "Enter password Hello@2!_G\n"
     ]
    },
    {
     "name": "stdout",
     "output_type": "stream",
     "text": [
      "valid password\n"
     ]
    }
   ],
   "source": [
    "#question1\n",
    "count1=0\n",
    "count2=0\n",
    "count3=0\n",
    "count4=0\n",
    "special_Characters = \"[@_!#$%^&*()<>?/\\|}{~:]\" # special character set\n",
    "password=input(\"Enter password\")\n",
    "for i in password:\n",
    "    if i.isupper()==True:\n",
    "        count1 += 1\n",
    "    elif i.islower()==True:\n",
    "        count2 += 1\n",
    "    elif i.isdigit()==True:\n",
    "        count3 += 1\n",
    "    elif (i in special_Characters)==True:\n",
    "        count4 += 1\n",
    "            \n",
    "if count1>=2 and count2>=2 and count3>=1 and count4>=3 and len(password)==10:\n",
    "    print(\"valid password\")\n",
    "else:\n",
    "    print(\"Invaild password\")\n"
   ]
  },
  {
   "cell_type": "code",
   "execution_count": 4,
   "id": "c4659d1e-2c6c-4a98-82cf-1a601f23b238",
   "metadata": {},
   "outputs": [
    {
     "name": "stdin",
     "output_type": "stream",
     "text": [
      "enter the string byee\n",
      "enter the letter h\n"
     ]
    },
    {
     "name": "stdout",
     "output_type": "stream",
     "text": [
      "string does not start with the letter you entered\n"
     ]
    }
   ],
   "source": [
    "#question2\n",
    "\n",
    "#check if the string starts with a particular letter\n",
    "s=input(\"enter the string\")\n",
    "letter=input(\"enter the letter\")\n",
    "check=lambda s : print(\"string starts with the letter you entered \") if s[0]==letter else print(\"string does not start with the letter you entered\")\n",
    "check(s)\n",
    "\n"
   ]
  },
  {
   "cell_type": "code",
   "execution_count": 16,
   "id": "852d0c81-21b5-4dce-b4eb-77da10655cc2",
   "metadata": {},
   "outputs": [
    {
     "name": "stdin",
     "output_type": "stream",
     "text": [
      "enter the string 100\n"
     ]
    },
    {
     "name": "stdout",
     "output_type": "stream",
     "text": [
      "the string is numeric\n"
     ]
    }
   ],
   "source": [
    "#Check if the string is numeric\n",
    "\n",
    "s=input(\"enter the string\")\n",
    "check = lambda s : print(\"the string is numeric\") if s.isnumeric()==True else print(\"the string is not numeric\")\n",
    "check(s)\n",
    "\n"
   ]
  },
  {
   "cell_type": "code",
   "execution_count": 2,
   "id": "778f88b3-1ce6-4327-8475-7927c3774325",
   "metadata": {},
   "outputs": [
    {
     "data": {
      "text/plain": [
       "[('orange', 80), ('mango', 99), ('grapes', 1000)]"
      ]
     },
     "execution_count": 2,
     "metadata": {},
     "output_type": "execute_result"
    }
   ],
   "source": [
    "#Sort a list of tuples having fruit names and their quantity. [(\"mango\",99),(\"orange\",80), (\"grapes\", 1000)]\n",
    "l = [(\"mango\",99),(\"orange\",80), (\"grapes\", 1000)]\n",
    "l.sort(key=lambda x:x[1])\n",
    "l\n",
    "\n"
   ]
  },
  {
   "cell_type": "code",
   "execution_count": 3,
   "id": "17227c78-b919-4107-b1a0-d24e87f92652",
   "metadata": {},
   "outputs": [
    {
     "data": {
      "text/plain": [
       "[1, 4, 9, 16, 25, 36, 49, 64, 81]"
      ]
     },
     "execution_count": 3,
     "metadata": {},
     "output_type": "execute_result"
    }
   ],
   "source": [
    "#Find the squares of numbers from 1 to 10\n",
    "l=list(range(1,10))\n",
    "[i**2 for i in l]"
   ]
  },
  {
   "cell_type": "code",
   "execution_count": 4,
   "id": "22d5f916-1f88-4e39-a368-f81c5805114f",
   "metadata": {},
   "outputs": [
    {
     "data": {
      "text/plain": [
       "[1, 8, 27, 64, 125, 216, 343, 512, 729]"
      ]
     },
     "execution_count": 4,
     "metadata": {},
     "output_type": "execute_result"
    }
   ],
   "source": [
    "#Find the cube root of numbers from 1 to 10\n",
    "l=list(range(1,10))\n",
    "[i**3 for i in l]"
   ]
  },
  {
   "cell_type": "code",
   "execution_count": 7,
   "id": "fd20e44e-09eb-4d81-b18a-89c39f536116",
   "metadata": {},
   "outputs": [
    {
     "name": "stdin",
     "output_type": "stream",
     "text": [
      "enter the number 4\n"
     ]
    },
    {
     "name": "stdout",
     "output_type": "stream",
     "text": [
      "the number is even\n"
     ]
    }
   ],
   "source": [
    "#Check if a given number is even\n",
    "num=int(input(\"enter the number\"))\n",
    "check = lambda num : print(\"the number is even\") if num%2==0 else print(\"the number is not even\")\n",
    "check(num)"
   ]
  },
  {
   "cell_type": "code",
   "execution_count": 25,
   "id": "01ff5155-a024-443e-8f1b-6f2d19ea5a56",
   "metadata": {},
   "outputs": [
    {
     "data": {
      "text/plain": [
       "[1, 3, 5, 7, 9]"
      ]
     },
     "execution_count": 25,
     "metadata": {},
     "output_type": "execute_result"
    }
   ],
   "source": [
    "#Filter odd numbers from the given list.\n",
    "l=[1,2,3,4,5,6,7,8,9,10]\n",
    "list(filter(lambda x : x%2!=0, l))"
   ]
  },
  {
   "cell_type": "code",
   "execution_count": 39,
   "id": "9ff18d95-778f-4f5c-896e-754df69dee58",
   "metadata": {},
   "outputs": [
    {
     "name": "stdout",
     "output_type": "stream",
     "text": [
      "[1, 2, 3, 4, 5, 6]\n",
      "[-1, -2, -3, -4, -5]\n"
     ]
    }
   ],
   "source": [
    "#Sort a list of integers into positive and negative integers lists.\n",
    "l=[1,2,3,4,5,6,-1,-2,-3,-4,-5,0]\n",
    "\n",
    "print(list(filter(lambda x : x>0, l)))\n",
    "print(list(filter(lambda x : x<0, l)))"
   ]
  },
  {
   "cell_type": "code",
   "execution_count": null,
   "id": "a1b7ffbc-0df2-466f-b39c-a474fcaf78e1",
   "metadata": {},
   "outputs": [],
   "source": []
  }
 ],
 "metadata": {
  "kernelspec": {
   "display_name": "Python 3 (ipykernel)",
   "language": "python",
   "name": "python3"
  },
  "language_info": {
   "codemirror_mode": {
    "name": "ipython",
    "version": 3
   },
   "file_extension": ".py",
   "mimetype": "text/x-python",
   "name": "python",
   "nbconvert_exporter": "python",
   "pygments_lexer": "ipython3",
   "version": "3.10.8"
  }
 },
 "nbformat": 4,
 "nbformat_minor": 5
}
